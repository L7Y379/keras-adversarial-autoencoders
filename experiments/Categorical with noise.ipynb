{
 "cells": [
  {
   "cell_type": "markdown",
   "metadata": {},
   "source": [
    "# Gumbel distribution\n",
    "\n",
    "The Gumbel distribution somehow magically describes the distribution of the maximum values drawn from a set of Normal distributions. Not only that. Just replace the Normal distributions with Exponential distributions and the maxima again form a Gumbel distribution. Magic indeed!\n",
    "\n",
    "I've been reading through http://amid.fish/humble-gumbel and I just cannot imagine that the Gumbel distribution does something there which cannot be done with a Uniform or Normal distribution. There are namely values added **independently** to a bunch of probabilities.\n",
    "\n",
    "The case is the following. Suppose you have two categories, $c_0$ and $c_1$ with values $x_0 = 0.2$ and $x_1 = 0.8$, or $x = [0.2, 0.8]$. We would like to sample from $y \\sim \\arg \\max_i(x_i + f(.))$. Here $f(.)$ is a stochastic function. The probability of $c_y$ should be according to $x$."
   ]
  },
  {
   "cell_type": "code",
   "execution_count": 3,
   "metadata": {},
   "outputs": [],
   "source": [
    "import numpy as np\n",
    "from matplotlib.pyplot import *"
   ]
  },
  {
   "cell_type": "code",
   "execution_count": 41,
   "metadata": {},
   "outputs": [],
   "source": [
    "def get_scale(distance):\n",
    "    if (distance != 0):\n",
    "        scale = 1+np.sqrt(4*distance**2-4*distance**3)/(2*distance)\n",
    "    else:\n",
    "        scale = 1\n",
    "    return scale;"
   ]
  },
  {
   "cell_type": "code",
   "execution_count": 93,
   "metadata": {},
   "outputs": [
    {
     "data": {
      "image/png": "[encoded data removed]",
      "text/plain": [
       "<matplotlib.figure.Figure at 0x7f3b0debf0b8>"
      ]
     },
     "metadata": {},
     "output_type": "display_data"
    }
   ],
   "source": [
    "# Probabilities need to be ascending in size\n",
    "probs = [0.1, 0.45, 0.45]\n",
    "n_cats = len(probs)\n",
    "cats = np.arange(n_cats)\n",
    "logits = np.log(probs)\n",
    "\n",
    "def plot_probs():\n",
    "    bar(cats, probs)\n",
    "    xlabel(\"Category\")\n",
    "    ylabel(\"Probability\")\n",
    "    \n",
    "figure()\n",
    "plot_probs()"
   ]
  },
  {
   "cell_type": "code",
   "execution_count": 94,
   "metadata": {},
   "outputs": [
    {
     "name": "stdout",
     "output_type": "stream",
     "text": [
      "Scale factor:  1.140408517470601\n"
     ]
    }
   ],
   "source": [
    "all_diffs = np.subtract.outer(probs, probs)\n",
    "L=len(probs)\n",
    "diffs = all_diffs[np.tril_indices(L,-1)]\n",
    "k=len(diffs)\n",
    "scales = np.zeros(k)\n",
    "for i in range(k):\n",
    "    scales[i] = get_scale(diffs[i])\n",
    "\n",
    "scale_factor = 1;\n",
    "for i in range(k):\n",
    "    scale_factor *= pow(scales[i], 1/k)\n",
    "\n",
    "scale_factor = pow(scale_factor, 1/k)\n",
    "print(\"Scale factor: \", scale_factor)"
   ]
  },
  {
   "cell_type": "code",
   "execution_count": 95,
   "metadata": {},
   "outputs": [
    {
     "name": "stdout",
     "output_type": "stream",
     "text": [
      "Original probabilities:\t\t0.100 0.450 0.450\n",
      "Estimated probabilities:\t0.116 0.442 0.443\n"
     ]
    },
    {
     "data": {
      "image/png": "[encoded data removed]",
      "text/plain": [
       "<matplotlib.figure.Figure at 0x7f3b0dd0f5f8>"
      ]
     },
     "metadata": {},
     "output_type": "display_data"
    }
   ],
   "source": [
    "def plot_estimated_probs(samples):\n",
    "    n_cats = np.max(samples) + 1\n",
    "    estd_probs, _, _ = hist(samples,\n",
    "                            bins=np.arange(n_cats + 1),\n",
    "                            align='left',\n",
    "                            edgecolor='white',\n",
    "                            normed=True)\n",
    "    xlabel(\"Category\")\n",
    "    ylabel(\"Estimated probability\")\n",
    "    return estd_probs\n",
    "\n",
    "def sample(values, scale_factor):\n",
    "    #noise = np.random.gumbel(scale=1, size=len(logits))\n",
    "    #sample = np.argmax(np.log(values) + noise)\n",
    "    noise = scale_factor*np.random.uniform(size=len(values))\n",
    "    sample = np.argmax(values + noise)\n",
    "    return sample\n",
    "\n",
    "n_samples = 10000\n",
    "samples = [sample(probs, scale_factor) for _ in range(n_samples)]\n",
    "\n",
    "figure()\n",
    "subplot(1, 2, 1)\n",
    "plot_probs()\n",
    "subplot(1, 2, 2)\n",
    "estd_probs = plot_estimated_probs(samples)\n",
    "\n",
    "def print_probs(probs):\n",
    "    print(\" \".join([\"{:.3f}\"] * len(probs)).format(*probs))\n",
    "\n",
    "print(\"Original probabilities:\\t\\t\", end=\"\")\n",
    "print_probs(probs)\n",
    "print(\"Estimated probabilities:\\t\", end=\"\")\n",
    "print_probs(estd_probs)"
   ]
  },
  {
   "cell_type": "code",
   "execution_count": null,
   "metadata": {},
   "outputs": [],
   "source": []
  }
 ],
 "metadata": {
  "kernelspec": {
   "display_name": "Python 3",
   "language": "python",
   "name": "python3"
  },
  "language_info": {
   "codemirror_mode": {
    "name": "ipython",
    "version": 3
   },
   "file_extension": ".py",
   "mimetype": "text/x-python",
   "name": "python",
   "nbconvert_exporter": "python",
   "pygments_lexer": "ipython3",
   "version": "3.6.5"
  }
 },
 "nbformat": 4,
 "nbformat_minor": 2
}
