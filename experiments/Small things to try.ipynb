{
 "cells": [
  {
   "cell_type": "markdown",
   "metadata": {},
   "source": [
    "# Some numpy thingies to check. \n",
    "\n",
    "## Permutations over columns, rows, etc.\n",
    "\n",
    "Main take-away: \n",
    "\n",
    "* np.random.shuffle() performs permutation in-place\n",
    "* np.random.permutation() makes a copy of the matrix\n",
    "\n"
   ]
  },
  {
   "cell_type": "code",
   "execution_count": 20,
   "metadata": {},
   "outputs": [
    {
     "name": "stdout",
     "output_type": "stream",
     "text": [
      "Original matrix\n",
      "[[0 0 1 2 3 4 5 6 7 8 9]\n",
      " [1 0 1 2 3 4 5 6 7 8 9]\n",
      " [2 0 1 2 3 4 5 6 7 8 9]\n",
      " [3 0 1 2 3 4 5 6 7 8 9]\n",
      " [4 0 1 2 3 4 5 6 7 8 9]]\n",
      "\n",
      "Permute over rows\n",
      "[[1 0 1 2 3 4 5 6 7 8 9]\n",
      " [3 0 1 2 3 4 5 6 7 8 9]\n",
      " [4 0 1 2 3 4 5 6 7 8 9]\n",
      " [0 0 1 2 3 4 5 6 7 8 9]\n",
      " [2 0 1 2 3 4 5 6 7 8 9]]\n",
      "\n",
      "Permute over rows (in-place)\n",
      "[[1 0 1 2 3 4 5 6 7 8 9]\n",
      " [4 0 1 2 3 4 5 6 7 8 9]\n",
      " [0 0 1 2 3 4 5 6 7 8 9]\n",
      " [2 0 1 2 3 4 5 6 7 8 9]\n",
      " [3 0 1 2 3 4 5 6 7 8 9]]\n",
      "\n",
      "Permute over columns\n",
      "[[8 9 3 1 5 0 4 2 6 0 7]\n",
      " [8 9 3 1 5 1 4 2 6 0 7]\n",
      " [8 9 3 1 5 2 4 2 6 0 7]\n",
      " [8 9 3 1 5 3 4 2 6 0 7]\n",
      " [8 9 3 1 5 4 4 2 6 0 7]]\n",
      "\n",
      "Permute each row differently (in-place)\n",
      "[[4 9 2 1 7 0 6 5 8 3 0]\n",
      " [3 2 6 8 1 5 0 1 9 7 4]\n",
      " [5 2 7 1 9 8 2 6 0 3 4]\n",
      " [2 5 9 3 4 3 8 7 0 1 6]\n",
      " [5 4 4 6 1 2 0 7 3 8 9]]\n"
     ]
    }
   ],
   "source": [
    "import numpy as np\n",
    "\n",
    "A = np.arange(10)\n",
    "A = np.tile(A, (5,1))\n",
    "idx = np.arange(5)\n",
    "A = np.insert(A, 0, idx, axis=1)\n",
    "\n",
    "# After each in-place operation we copy the matrix A back to have the original matrix again\n",
    "A_orig=np.copy(A)\n",
    "\n",
    "print(\"Original matrix\")\n",
    "print(A)\n",
    "\n",
    "print()\n",
    "print(\"Permute over rows\")\n",
    "B = np.random.permutation(A)\n",
    "print(B)\n",
    "\n",
    "print()\n",
    "print(\"Permute over rows (in-place)\")\n",
    "np.random.shuffle(A)\n",
    "print(A)\n",
    "A=np.copy(A_orig)\n",
    "\n",
    "print()\n",
    "print(\"Permute over columns\")\n",
    "B = np.random.permutation(A.T).T\n",
    "print(B)\n",
    "\n",
    "print()\n",
    "print(\"Permute each row differently (in-place)\")\n",
    "for i in range(len(A)):\n",
    "    np.random.shuffle(A[i])\n",
    "print(A)\n",
    "A=np.copy(A_orig)"
   ]
  },
  {
   "cell_type": "code",
   "execution_count": null,
   "metadata": {},
   "outputs": [],
   "source": []
  }
 ],
 "metadata": {
  "kernelspec": {
   "display_name": "Python 3",
   "language": "python",
   "name": "python3"
  },
  "language_info": {
   "codemirror_mode": {
    "name": "ipython",
    "version": 3
   },
   "file_extension": ".py",
   "mimetype": "text/x-python",
   "name": "python",
   "nbconvert_exporter": "python",
   "pygments_lexer": "ipython3",
   "version": "3.6.6"
  }
 },
 "nbformat": 4,
 "nbformat_minor": 2
}
