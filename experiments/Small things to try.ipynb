{
 "cells": [
  {
   "cell_type": "code",
   "execution_count": 9,
   "metadata": {},
   "outputs": [
    {
     "name": "stdout",
     "output_type": "stream",
     "text": [
      "Original matrix\n",
      "[[0 1 2 3 4 5 6 7 8 9]\n",
      " [0 1 2 3 4 5 6 7 8 9]\n",
      " [0 1 2 3 4 5 6 7 8 9]\n",
      " [0 1 2 3 4 5 6 7 8 9]\n",
      " [0 1 2 3 4 5 6 7 8 9]]\n",
      "Permute over columns\n",
      "[[4 7 1 5 6 8 0 3 9 2]\n",
      " [4 7 1 5 6 8 0 3 9 2]\n",
      " [4 7 1 5 6 8 0 3 9 2]\n",
      " [4 7 1 5 6 8 0 3 9 2]\n",
      " [4 7 1 5 6 8 0 3 9 2]]\n",
      "Permute each row differently\n",
      "[[3 4 1 2 6 0 8 5 9 7]\n",
      " [0 5 2 1 8 6 4 3 7 9]\n",
      " [6 0 1 9 8 5 7 3 2 4]\n",
      " [7 5 9 8 2 6 4 0 3 1]\n",
      " [1 0 4 7 2 3 5 8 6 9]]\n",
      "Permute each row in line\n",
      "[[9 0 8 6 5 1 3 7 4 2]\n",
      " [2 7 5 1 9 6 8 4 0 3]\n",
      " [8 5 4 3 7 0 2 9 1 6]\n",
      " [8 2 4 9 3 5 0 6 7 1]\n",
      " [1 8 9 7 4 3 0 6 2 5]]\n"
     ]
    }
   ],
   "source": [
    "import numpy as np\n",
    "\n",
    "A = np.arange(10)\n",
    "A = np.tile(A, (5,1))\n",
    "\n",
    "print(\"Original matrix\")\n",
    "print(A)\n",
    "\n",
    "#print(\"Permute over rows\")\n",
    "#B = np.random.permutation(A)\n",
    "#print(B)\n",
    "\n",
    "#print(\"Permute over rows in place\")\n",
    "#D = A.copy()\n",
    "#np.random.shuffle(D)\n",
    "#print(D)\n",
    "\n",
    "print(\"Permute over columns\")\n",
    "B = np.random.permutation(A.T).T\n",
    "print(B)\n",
    "\n",
    "print(\"Permute each row differently\")\n",
    "C = A.copy()\n",
    "for i in range(len(C)):\n",
    "    np.random.shuffle(C[i])\n",
    "print(C)\n",
    "\n",
    "print(\"Permute each row in line\")\n",
    "for i in range(len(A)):\n",
    "    np.random.shuffle(A[i])\n",
    "print(A)"
   ]
  },
  {
   "cell_type": "code",
   "execution_count": null,
   "metadata": {},
   "outputs": [],
   "source": []
  },
  {
   "cell_type": "code",
   "execution_count": null,
   "metadata": {},
   "outputs": [],
   "source": []
  }
 ],
 "metadata": {
  "kernelspec": {
   "display_name": "Python 3",
   "language": "python",
   "name": "python3"
  },
  "language_info": {
   "codemirror_mode": {
    "name": "ipython",
    "version": 3
   },
   "file_extension": ".py",
   "mimetype": "text/x-python",
   "name": "python",
   "nbconvert_exporter": "python",
   "pygments_lexer": "ipython3",
   "version": "3.6.3"
  }
 },
 "nbformat": 4,
 "nbformat_minor": 2
}
