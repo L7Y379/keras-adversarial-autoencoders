{
 "cells": [
  {
   "cell_type": "markdown",
   "metadata": {},
   "source": [
    "# Variational Autoencoder\n",
    "\n",
    "Example is from the [Keras blog](https://blog.keras.io/building-autoencoders-in-keras.html). According to the writer it's the simplest possible autoencoder."
   ]
  },
  {
   "cell_type": "code",
   "execution_count": 36,
   "metadata": {},
   "outputs": [
    {
     "name": "stdout",
     "output_type": "stream",
     "text": [
      "(60000, 784)\n",
      "(10000, 784)\n"
     ]
    }
   ],
   "source": [
    "from keras.layers import Input, Dense\n",
    "from keras.models import Model\n",
    "from keras.datasets import mnist\n",
    "import numpy as np\n",
    "\n",
    "(x_train, y_train), (x_test, y_test) = mnist.load_data()\n",
    "\n",
    "image_size = x_train.shape[1]\n",
    "original_dim = image_size * image_size\n",
    "\n",
    "x_train = np.reshape(x_train, [-1, original_dim])\n",
    "x_test = np.reshape(x_test, [-1, original_dim])\n",
    "x_train = x_train.astype('float32') / 255\n",
    "x_test = x_test.astype('float32') / 255\n",
    "\n",
    "print(x_train.shape)\n",
    "print(x_test.shape)\n",
    "\n",
    "intermediate_dim = 500\n",
    "batch_size = 128\n",
    "# You would assume that 10 latent dimensions would be best for the MNIST dataset...\n",
    "latent_dim = 2\n",
    "epochs = 50\n",
    "input_shape = (original_dim, )"
   ]
  },
  {
   "cell_type": "code",
   "execution_count": 27,
   "metadata": {},
   "outputs": [],
   "source": [
    "# Build encoder\n",
    "\n",
    "# The input is mapped to a hidden layer \"h\" with dimension \"intermediate_dim\" and then mapped immediately to \n",
    "# a latent layer with Gaussians (mean and log sigma variables). All subsequent layers are fully connected.\n",
    "inputs = Input(input_shape)\n",
    "h = Dense(intermediate_dim, activation='relu')(inputs)\n",
    "z_mean = Dense(latent_dim)(h)\n",
    "z_log_variance = Dense(latent_dim)(h)"
   ]
  },
  {
   "cell_type": "markdown",
   "metadata": {},
   "source": [
    "Given mean, $\\mu$, and (log) sigma, $\\log \\sigma$, sample from a Normal distribution: $z \\sim N(\\mu, \\sigma^2)$.\n",
    "\n",
    "Here Lambda is actually a layer. It accepts a vector with means and sigmas and returns a vector with samples\n",
    "\n",
    "Rather than directly sampling from $N(\\mu,\\sigma^2)$ we sample from $\\epsilon \\sim N(0,1)$ and calculate $z = \\mu + \\sigma \\odot \\epsilon$. Note that this function expects $\\log \\sigma$, not $\\log \\sigma^2$. The above representation is a product-wise multiplication by $\\sigma$, but represents $N(\\mu,\\sigma^2)$."
   ]
  },
  {
   "cell_type": "code",
   "execution_count": 28,
   "metadata": {},
   "outputs": [],
   "source": [
    "from keras.layers import Lambda\n",
    "from keras import backend as K\n",
    "\n",
    "def sampling(args):\n",
    "    z_mean, z_log_variance = args\n",
    "    batch = K.shape(z_mean)[0]\n",
    "    dim = K.int_shape(z_mean)[1]\n",
    "    epsilon = K.random_normal(shape=(batch, dim))\n",
    "    # It stated z_mean + K.exp(z_log_sigma) * epsilon in original code, but actually log variance was used\n",
    "    # in Kullback-Leibler divergence. Hence I changed z_log_sigma -> z_log_variance and divide here by 2 in the\n",
    "    # exponent, corresponds to sqrt(z_variance).\n",
    "    return z_mean + K.exp(z_log_variance / 2) * epsilon\n",
    "\n",
    "z = Lambda(sampling)([z_mean, z_log_variance])"
   ]
  },
  {
   "cell_type": "code",
   "execution_count": 29,
   "metadata": {},
   "outputs": [],
   "source": [
    "# instantiate encoder, from inputs to latent space\n",
    "encoder = Model(inputs, [z_mean, z_log_variance, z])"
   ]
  },
  {
   "cell_type": "code",
   "execution_count": 30,
   "metadata": {},
   "outputs": [],
   "source": [
    "# Build decoder model\n",
    "# The latent Gaussian variables are mapped to again a layer with dimension \"intermediate_dim\", finally the \n",
    "# reconstruction is formed by mapping to original dimension.\n",
    "# If properly trained, x_decoded_mean should be the same as x.\n",
    "decoder_input = Input(shape=(latent_dim,))\n",
    "decoder_h = Dense(intermediate_dim, activation='relu')(decoder_input)\n",
    "decoder_output = Dense(original_dim, activation='sigmoid')(decoder_h)\n",
    "#x_decoded_mean = decoder_mean(h1)\n",
    "\n",
    "# Instantiate decoder\n",
    "decoder = Model(decoder_input, decoder_output)"
   ]
  },
  {
   "cell_type": "code",
   "execution_count": 31,
   "metadata": {},
   "outputs": [],
   "source": [
    "# end-to-end autoencoder\n",
    "outputs = decoder(encoder(inputs)[2])\n",
    "vae = Model(inputs, outputs)"
   ]
  },
  {
   "cell_type": "markdown",
   "metadata": {},
   "source": [
    "The loss for the Variational Autoencoder is:\n",
    "* a \"binary cross-entropy\" loss between x and x' (the reconstructed x_decoded_mean)\n",
    "* a Kullback-Leibler divergence with the latent layer\n",
    "\n",
    "The Kullback-Leibler divergence between two multivariate normal distributions:\n",
    "\n",
    "$$D_{KL}(N_0,N_1) = 1/2 \\left( \\mathrm{tr }(\\Sigma_1^{-1}\\Sigma_0) + (\\mu_1 - \\mu_0)^T\\Sigma_1^{-1} (\\mu_1 - \\mu_0) -k + \\log \\frac{\\det \\Sigma_1}{ \\det \\Sigma_0} \\right)$$\n",
    "\n",
    "Here $\\Sigma_0$ and $\\Sigma_1$ are covariance matrices. \n",
    "\n",
    "In our case we compare a diagonal multivariate normal (one $\\sigma$ scalar per variable) with a unit normal distribution. The trace of a matrix is just the sum over the diagonal. The determinant of a diagonal matrix is the product over the diagonal. The unit normal distribution: $\\Sigma_1 = I$, $\\mu_1=0$ (vector notation omitted).\n",
    "\n",
    "$$D_{KL}(N_0,N_1) = 1/2 \\left( \\sum_k ( \\Sigma_0 ) + (-\\mu_0)^T (-\\mu_0) -k - \\log  \\prod_k (\\Sigma_0) \\right)$$\n",
    "\n",
    "And:\n",
    "\n",
    "$$D_{KL}(N_0,N_1) = 1/2 \\left( \\sum_k ( \\Sigma_0 ) + \\sum_k (\\mu_i^2) + \\sum_k ( -1 ) - \\sum_k \\log \\Sigma_0 \\right)$$\n",
    "\n",
    "Which leads to:\n",
    "\n",
    "$$D_{KL}(N_0,N_1) = -1/2 \\sum_{i=1}^k 1 + \\log(\\sigma_i^2) - \\mu_i^2 - \\sigma_i^2$$\n",
    "\n",
    "Here $N_0 = N(\\mu_1,\\ldots,\\mu_k;\\sigma_1,\\ldots,\\sigma_k)$ and $N_1 = N(0,I)$. We use the standard deviation $\\sigma_i$ here rather than the (co)variance $\\Sigma$.\n",
    "\n",
    "Note, it seems that z_log_sigma here actually represents $\\log \\sigma^2$. Is this correct?\n",
    "\n",
    "Rather than K.sum() for the KL divergence K_mean() is used. The entire loss is scaled with the original dimension. It would also have been an option to multiply the xend_loss with original_dim and then return the sum."
   ]
  },
  {
   "cell_type": "code",
   "execution_count": 32,
   "metadata": {},
   "outputs": [
    {
     "name": "stdout",
     "output_type": "stream",
     "text": [
      "_________________________________________________________________\n",
      "Layer (type)                 Output Shape              Param #   \n",
      "=================================================================\n",
      "input_8 (InputLayer)         (None, 784)               0         \n",
      "_________________________________________________________________\n",
      "model_6 (Model)              [(None, 2), (None, 2), (N 394504    \n",
      "_________________________________________________________________\n",
      "model_7 (Model)              (None, 784)               394284    \n",
      "=================================================================\n",
      "Total params: 788,788\n",
      "Trainable params: 788,788\n",
      "Non-trainable params: 0\n",
      "_________________________________________________________________\n"
     ]
    }
   ],
   "source": [
    "from keras import objectives\n",
    "from keras.losses import mse, binary_crossentropy\n",
    "\n",
    "def vae_loss(x, x_reconstruction):\n",
    "    xent_loss = binary_crossentropy(x, x_reconstruction) * original_dim\n",
    "    # if we set kl_loss to 0 we get low values pretty immediate...\n",
    "    # in 1 epoch, loss: 0.1557 - val_loss: 0.1401\n",
    "    # in 50 epochs, loss: 0.0785 - val_loss: 0.0791 \n",
    "    kl_loss = - 0.5 * K.sum(1 + z_log_variance - K.square(z_mean) - K.exp(z_log_variance), axis=-1)\n",
    "    return K.mean(xent_loss + kl_loss)\n",
    "\n",
    "vae.compile(optimizer='adam', loss=vae_loss)\n",
    "vae.summary()"
   ]
  },
  {
   "cell_type": "code",
   "execution_count": 37,
   "metadata": {},
   "outputs": [
    {
     "name": "stdout",
     "output_type": "stream",
     "text": [
      "Train on 60000 samples, validate on 10000 samples\n",
      "Epoch 1/50\n",
      "60000/60000 [==============================] - 13s 220us/step - loss: 159.2221 - val_loss: 159.0399\n",
      "Epoch 2/50\n",
      "60000/60000 [==============================] - 13s 219us/step - loss: 157.8996 - val_loss: 157.8228\n",
      "Epoch 3/50\n",
      "60000/60000 [==============================] - 14s 228us/step - loss: 156.7433 - val_loss: 157.0596\n",
      "Epoch 4/50\n",
      "60000/60000 [==============================] - 13s 219us/step - loss: 155.8518 - val_loss: 156.1105\n",
      "Epoch 5/50\n",
      "60000/60000 [==============================] - 13s 218us/step - loss: 155.0062 - val_loss: 155.4488\n",
      "Epoch 6/50\n",
      "60000/60000 [==============================] - 13s 219us/step - loss: 154.3491 - val_loss: 155.1011\n",
      "Epoch 7/50\n",
      "60000/60000 [==============================] - 13s 217us/step - loss: 153.6979 - val_loss: 154.3355\n",
      "Epoch 8/50\n",
      "60000/60000 [==============================] - 13s 220us/step - loss: 153.1956 - val_loss: 154.0257\n",
      "Epoch 9/50\n",
      "60000/60000 [==============================] - 13s 216us/step - loss: 152.7055 - val_loss: 153.5352\n",
      "Epoch 10/50\n",
      "60000/60000 [==============================] - 13s 209us/step - loss: 152.2517 - val_loss: 153.8171\n",
      "Epoch 11/50\n",
      "60000/60000 [==============================] - 11s 179us/step - loss: 151.8649 - val_loss: 152.8280\n",
      "Epoch 12/50\n",
      "60000/60000 [==============================] - 11s 179us/step - loss: 151.4658 - val_loss: 152.4432\n",
      "Epoch 13/50\n",
      "60000/60000 [==============================] - 13s 216us/step - loss: 151.1686 - val_loss: 152.5694\n",
      "Epoch 14/50\n",
      "60000/60000 [==============================] - 11s 188us/step - loss: 150.8320 - val_loss: 152.2580\n",
      "Epoch 15/50\n",
      "60000/60000 [==============================] - 12s 205us/step - loss: 150.5344 - val_loss: 152.1936\n",
      "Epoch 16/50\n",
      "60000/60000 [==============================] - 15s 242us/step - loss: 150.2585 - val_loss: 151.7503\n",
      "Epoch 17/50\n",
      "60000/60000 [==============================] - 14s 232us/step - loss: 149.9579 - val_loss: 151.9160\n",
      "Epoch 18/50\n",
      "60000/60000 [==============================] - 14s 231us/step - loss: 149.6891 - val_loss: 151.5431\n",
      "Epoch 19/50\n",
      "60000/60000 [==============================] - 13s 222us/step - loss: 149.4683 - val_loss: 151.4720\n",
      "Epoch 20/50\n",
      "60000/60000 [==============================] - 15s 245us/step - loss: 149.2384 - val_loss: 151.5152\n",
      "Epoch 21/50\n",
      "60000/60000 [==============================] - 14s 227us/step - loss: 149.0342 - val_loss: 151.0720\n",
      "Epoch 22/50\n",
      "60000/60000 [==============================] - 14s 227us/step - loss: 148.8130 - val_loss: 151.1170\n",
      "Epoch 23/50\n",
      "60000/60000 [==============================] - 14s 229us/step - loss: 148.5920 - val_loss: 151.0469\n",
      "Epoch 24/50\n",
      "60000/60000 [==============================] - 14s 228us/step - loss: 148.4556 - val_loss: 151.1210\n",
      "Epoch 25/50\n",
      "60000/60000 [==============================] - 14s 226us/step - loss: 148.2427 - val_loss: 150.4827\n",
      "Epoch 26/50\n",
      "60000/60000 [==============================] - 14s 228us/step - loss: 148.0597 - val_loss: 150.4367\n",
      "Epoch 27/50\n",
      "60000/60000 [==============================] - 14s 231us/step - loss: 147.8799 - val_loss: 150.6610\n",
      "Epoch 28/50\n",
      "60000/60000 [==============================] - 14s 230us/step - loss: 147.7272 - val_loss: 150.5197\n",
      "Epoch 29/50\n",
      "60000/60000 [==============================] - 14s 230us/step - loss: 147.6031 - val_loss: 150.3182\n",
      "Epoch 30/50\n",
      "60000/60000 [==============================] - 14s 231us/step - loss: 147.4754 - val_loss: 150.9664\n",
      "Epoch 31/50\n",
      "60000/60000 [==============================] - 14s 230us/step - loss: 147.2910 - val_loss: 150.2125\n",
      "Epoch 32/50\n",
      "60000/60000 [==============================] - 14s 232us/step - loss: 147.1862 - val_loss: 150.1996\n",
      "Epoch 33/50\n",
      "60000/60000 [==============================] - 15s 242us/step - loss: 147.0433 - val_loss: 150.0584\n",
      "Epoch 34/50\n",
      "60000/60000 [==============================] - 11s 183us/step - loss: 146.8670 - val_loss: 149.8583\n",
      "Epoch 35/50\n",
      "60000/60000 [==============================] - 11s 182us/step - loss: 146.8239 - val_loss: 149.9733\n",
      "Epoch 36/50\n",
      "60000/60000 [==============================] - 11s 180us/step - loss: 146.6685 - val_loss: 150.0361\n",
      "Epoch 37/50\n",
      "60000/60000 [==============================] - 11s 181us/step - loss: 146.5669 - val_loss: 150.1047\n",
      "Epoch 38/50\n",
      "60000/60000 [==============================] - 11s 180us/step - loss: 146.4569 - val_loss: 149.7138\n",
      "Epoch 39/50\n",
      "60000/60000 [==============================] - 11s 192us/step - loss: 146.3112 - val_loss: 149.8564\n",
      "Epoch 40/50\n",
      "60000/60000 [==============================] - 19s 315us/step - loss: 146.1637 - val_loss: 149.7960\n",
      "Epoch 41/50\n",
      "60000/60000 [==============================] - 13s 209us/step - loss: 146.0756 - val_loss: 150.0677\n",
      "Epoch 42/50\n",
      "60000/60000 [==============================] - 12s 205us/step - loss: 146.0072 - val_loss: 150.0699\n",
      "Epoch 43/50\n",
      "60000/60000 [==============================] - 11s 183us/step - loss: 145.9078 - val_loss: 149.7884\n",
      "Epoch 44/50\n",
      "60000/60000 [==============================] - 14s 229us/step - loss: 145.7760 - val_loss: 149.8469\n",
      "Epoch 45/50\n",
      "60000/60000 [==============================] - 15s 257us/step - loss: 145.7478 - val_loss: 149.5982\n",
      "Epoch 46/50\n",
      "60000/60000 [==============================] - 14s 240us/step - loss: 145.6237 - val_loss: 149.7871\n",
      "Epoch 47/50\n",
      "60000/60000 [==============================] - 12s 193us/step - loss: 145.5127 - val_loss: 149.9114\n",
      "Epoch 48/50\n",
      "60000/60000 [==============================] - 11s 191us/step - loss: 145.4638 - val_loss: 149.4385\n",
      "Epoch 49/50\n",
      "60000/60000 [==============================] - 11s 183us/step - loss: 145.3683 - val_loss: 149.6277\n",
      "Epoch 50/50\n",
      "60000/60000 [==============================] - 11s 184us/step - loss: 145.2906 - val_loss: 149.7117\n"
     ]
    }
   ],
   "source": [
    "steps_per_epoch=None\n",
    "vae.fit(x_train, x_train,\n",
    "        epochs=epochs,\n",
    "        batch_size=batch_size,\n",
    "        validation_data=(x_test, x_test))\n",
    "vae.save_weights('vae_mlp_mnist.h5')"
   ]
  },
  {
   "cell_type": "code",
   "execution_count": 39,
   "metadata": {},
   "outputs": [],
   "source": [
    "# encode and decode some digits\n",
    "# note that we take them from the *test* set\n",
    "encoded_imgs, _, _, = encoder.predict(x_test)\n",
    "decoded_imgs = decoder.predict(encoded_imgs)"
   ]
  },
  {
   "cell_type": "code",
   "execution_count": 40,
   "metadata": {},
   "outputs": [
    {
     "data": {
      "image/png": "[encoded data removed]",
      "text/plain": [
       "<matplotlib.figure.Figure at 0x7f80c67a7978>"
      ]
     },
     "metadata": {},
     "output_type": "display_data"
    }
   ],
   "source": [
    "# use Matplotlib (don't ask)\n",
    "import matplotlib.pyplot as plt\n",
    "\n",
    "n = 10  # how many digits we will display\n",
    "plt.figure(figsize=(20, 4))\n",
    "for i in range(n):\n",
    "    # display original\n",
    "    ax = plt.subplot(2, n, i + 1)\n",
    "    plt.imshow(x_test[i].reshape(28, 28))\n",
    "    plt.gray()\n",
    "    ax.get_xaxis().set_visible(False)\n",
    "    ax.get_yaxis().set_visible(False)\n",
    "\n",
    "    # display reconstruction\n",
    "    ax = plt.subplot(2, n, i + 1 + n)\n",
    "    plt.imshow(decoded_imgs[i].reshape(28, 28))\n",
    "    plt.gray()\n",
    "    ax.get_xaxis().set_visible(False)\n",
    "    ax.get_yaxis().set_visible(False)\n",
    "plt.show()"
   ]
  },
  {
   "cell_type": "code",
   "execution_count": 86,
   "metadata": {},
   "outputs": [
    {
     "ename": "ModuleNotFoundError",
     "evalue": "No module named 'matplotlib.pyplot.seaborn'; 'matplotlib.pyplot' is not a package",
     "output_type": "error",
     "traceback": [
      "\u001b[0;31m---------------------------------------------------------------------------\u001b[0m",
      "\u001b[0;31mModuleNotFoundError\u001b[0m                       Traceback (most recent call last)",
      "\u001b[0;32m<ipython-input-86-d20946686e2a>\u001b[0m in \u001b[0;36m<module>\u001b[0;34m()\u001b[0m\n\u001b[1;32m      1\u001b[0m \u001b[0mx_test_encoded\u001b[0m\u001b[0;34m,\u001b[0m \u001b[0m_\u001b[0m\u001b[0;34m,\u001b[0m \u001b[0m_\u001b[0m \u001b[0;34m=\u001b[0m \u001b[0mencoder\u001b[0m\u001b[0;34m.\u001b[0m\u001b[0mpredict\u001b[0m\u001b[0;34m(\u001b[0m\u001b[0mx_test\u001b[0m\u001b[0;34m,\u001b[0m \u001b[0mbatch_size\u001b[0m\u001b[0;34m=\u001b[0m\u001b[0mbatch_size\u001b[0m\u001b[0;34m)\u001b[0m\u001b[0;34m\u001b[0m\u001b[0m\n\u001b[1;32m      2\u001b[0m \u001b[0;34m\u001b[0m\u001b[0m\n\u001b[0;32m----> 3\u001b[0;31m \u001b[0;32mimport\u001b[0m \u001b[0mmatplotlib\u001b[0m\u001b[0;34m.\u001b[0m\u001b[0mpyplot\u001b[0m\u001b[0;34m.\u001b[0m\u001b[0mseaborn\u001b[0m \u001b[0;32mas\u001b[0m \u001b[0msns\u001b[0m\u001b[0;34m\u001b[0m\u001b[0m\n\u001b[0m\u001b[1;32m      4\u001b[0m \u001b[0mcmap\u001b[0m \u001b[0;34m=\u001b[0m \u001b[0msns\u001b[0m\u001b[0;34m.\u001b[0m\u001b[0mlight_palette\u001b[0m\u001b[0;34m(\u001b[0m\u001b[0;34m\"seaborn-pastel\"\u001b[0m\u001b[0;34m,\u001b[0m \u001b[0mas_cmap\u001b[0m\u001b[0;34m=\u001b[0m\u001b[0;32mTrue\u001b[0m\u001b[0;34m)\u001b[0m\u001b[0;34m\u001b[0m\u001b[0m\n\u001b[1;32m      5\u001b[0m \u001b[0;34m\u001b[0m\u001b[0m\n",
      "\u001b[0;31mModuleNotFoundError\u001b[0m: No module named 'matplotlib.pyplot.seaborn'; 'matplotlib.pyplot' is not a package"
     ]
    }
   ],
   "source": [
    "x_test_encoded, _, _ = encoder.predict(x_test, batch_size=batch_size)\n",
    "\n",
    "with plt.style.context(['default','ggplot','seaborn-pastel'], after_reset=True):\n",
    "    plt.figure(figsize=(6, 6))\n",
    "    plt.scatter(x_test_encoded[:, 0], x_test_encoded[:, 1], c=y_test/10, cmap='Blues')\n",
    "    plt.colorbar()\n",
    "    plt.show()"
   ]
  },
  {
   "cell_type": "code",
   "execution_count": null,
   "metadata": {},
   "outputs": [],
   "source": []
  }
 ],
 "metadata": {
  "kernelspec": {
   "display_name": "Python 3",
   "language": "python",
   "name": "python3"
  },
  "language_info": {
   "codemirror_mode": {
    "name": "ipython",
    "version": 3
   },
   "file_extension": ".py",
   "mimetype": "text/x-python",
   "name": "python",
   "nbconvert_exporter": "python",
   "pygments_lexer": "ipython3",
   "version": "3.6.6"
  }
 },
 "nbformat": 4,
 "nbformat_minor": 2
}
